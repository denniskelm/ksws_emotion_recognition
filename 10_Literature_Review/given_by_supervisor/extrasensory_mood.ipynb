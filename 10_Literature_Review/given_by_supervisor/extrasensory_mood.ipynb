{
 "cells": [
  {
   "cell_type": "code",
   "execution_count": 1,
   "id": "85537a01",
   "metadata": {},
   "outputs": [],
   "source": [
    "%load_ext autoreload\n",
    "%autoreload 2"
   ]
  },
  {
   "cell_type": "code",
   "execution_count": 2,
   "id": "04f12021",
   "metadata": {},
   "outputs": [
    {
     "ename": "ModuleNotFoundError",
     "evalue": "No module named 'pandas'",
     "output_type": "error",
     "traceback": [
      "\u001B[1;31m---------------------------------------------------------------------------\u001B[0m",
      "\u001B[1;31mModuleNotFoundError\u001B[0m                       Traceback (most recent call last)",
      "Input \u001B[1;32mIn [2]\u001B[0m, in \u001B[0;36m<cell line: 1>\u001B[1;34m()\u001B[0m\n\u001B[1;32m----> 1\u001B[0m \u001B[38;5;28;01mimport\u001B[39;00m \u001B[38;5;21;01mpandas\u001B[39;00m \u001B[38;5;28;01mas\u001B[39;00m \u001B[38;5;21;01mpd\u001B[39;00m\n\u001B[0;32m      2\u001B[0m \u001B[38;5;28;01mimport\u001B[39;00m \u001B[38;5;21;01mnumpy\u001B[39;00m \u001B[38;5;28;01mas\u001B[39;00m \u001B[38;5;21;01mnp\u001B[39;00m\n\u001B[0;32m      3\u001B[0m \u001B[38;5;28;01mfrom\u001B[39;00m \u001B[38;5;21;01mos\u001B[39;00m\u001B[38;5;21;01m.\u001B[39;00m\u001B[38;5;21;01mpath\u001B[39;00m \u001B[38;5;28;01mimport\u001B[39;00m basename\n",
      "\u001B[1;31mModuleNotFoundError\u001B[0m: No module named 'pandas'"
     ]
    }
   ],
   "source": [
    "import pandas as pd\n",
    "import numpy as np\n",
    "from os.path import basename\n",
    "from datetime import datetime\n",
    "import matplotlib.pyplot as plt\n",
    "import matplotlib.dates as mdates\n",
    "from matplotlib.ticker import (AutoMinorLocator, MultipleLocator)\n",
    "from matplotlib.pylab import rcParams\n",
    "import matplotlib.colors as mcolors\n",
    "import glob\n",
    "from sklearn.cluster import KMeans\n",
    "\n",
    "from lib import generate_histogram, parallel_coordinates_for_multinomial_distribution"
   ]
  },
  {
   "cell_type": "code",
   "execution_count": null,
   "id": "c7bf7ad8",
   "metadata": {},
   "outputs": [],
   "source": [
    "plt.style.use('ggplot')\n",
    "rcParams['figure.figsize'] = 11, 4"
   ]
  },
  {
   "cell_type": "markdown",
   "id": "ea38d912",
   "metadata": {},
   "source": [
    "# Data exploration for behaviour recognition \n",
    "Data: http://extrasensory.ucsd.edu/\n",
    "Using strategy like: https://doi.org/10.48550/arXiv.2207.08816"
   ]
  },
  {
   "cell_type": "code",
   "execution_count": null,
   "id": "42a03f1b",
   "metadata": {},
   "outputs": [],
   "source": [
    "def plot_labels(d, f, ax):\n",
    "    d_ = d.melt(id_vars=['timestamp'], ignore_index=False)\n",
    "    d_ = d_[d_.value > 0]\n",
    "    d_ = d_.sort_index()\n",
    "    ax.plot(d_.index, d_.variable, marker='|', lw=0, ms=10)\n",
    "    ax.set_title(basename(f))\n",
    "    return"
   ]
  },
  {
   "cell_type": "code",
   "execution_count": null,
   "id": "1a4b7940",
   "metadata": {
    "scrolled": false
   },
   "outputs": [],
   "source": [
    "files = glob.glob(\"ExtraSensory.per_uuid_mood_labels/*.csv.gz\")\n",
    "ds = []\n",
    "for f in files:\n",
    "    d = pd.read_csv(f)\n",
    "    d = d.dropna(how='any')\n",
    "    if d.shape[0] > 0:\n",
    "        ds.append((f,d))\n",
    "fig, axs = plt.subplots(nrows=len(ds)//2+(len(ds)%2>0), ncols=2,\n",
    "                        figsize=(15,70))\n",
    "axs = np.concatenate(axs)\n",
    "for i, (f,d) in enumerate(ds):\n",
    "    ax = axs[i]\n",
    "    plot_labels(d, f, ax)\n",
    "plt.show()"
   ]
  },
  {
   "cell_type": "code",
   "execution_count": null,
   "id": "0df577cf",
   "metadata": {},
   "outputs": [],
   "source": [
    "d = pd.read_csv('ExtraSensory.per_uuid_mood_labels/2C32C23E-E30C-498A-8DD2-0EFB9150A02E.moods.csv.gz')\n",
    "d = d.dropna(how='any')\n",
    "d = d.melt(id_vars=['timestamp'], ignore_index=False)\n",
    "d = d[d.value > 0]\n",
    "d = d.sort_index()\n",
    "d.head()"
   ]
  },
  {
   "cell_type": "code",
   "execution_count": null,
   "id": "d48a0ca3",
   "metadata": {},
   "outputs": [],
   "source": [
    "d['datetime'] = [datetime.utcfromtimestamp(ts).strftime('%Y-%m-%d %H:%M:%S') for ts in d.timestamp]\n",
    "d.head()"
   ]
  },
  {
   "cell_type": "code",
   "execution_count": null,
   "id": "d48283b6",
   "metadata": {},
   "outputs": [],
   "source": [
    "fig, ax = plt.subplots(figsize=(15,5))\n",
    "ax.plot(pd.to_datetime(d.datetime), d.variable, marker='|', lw=0, ms=10)\n",
    "myFmt = mdates.DateFormatter('%d %H:%M')\n",
    "ax.xaxis.set_major_formatter(myFmt)\n",
    "ax.xaxis.set_minor_locator(mdates.HourLocator(byhour=None, interval=3, tz=None))\n",
    "ax.xaxis.set_major_locator(mdates.HourLocator(byhour=None, interval=6, tz=None))\n",
    "plt.xticks(rotation=70)\n",
    "plt.show()"
   ]
  },
  {
   "cell_type": "code",
   "execution_count": null,
   "id": "4918d851",
   "metadata": {},
   "outputs": [],
   "source": [
    "histograms = generate_histogram(d, 30)\n",
    "histograms.head()"
   ]
  },
  {
   "cell_type": "code",
   "execution_count": null,
   "id": "2fe99fca",
   "metadata": {
    "scrolled": false
   },
   "outputs": [],
   "source": [
    "fig, axs = plt.subplots(nrows=6, figsize=(15,50))\n",
    "classes = list(histograms.columns)\n",
    "classes.remove('time')\n",
    "\n",
    "colors = np.random.choice(list(mcolors.CSS4_COLORS.keys()), len(classes), replace=False)\n",
    "colormap = dict(zip(classes, colors))\n",
    "\n",
    "def plot_violins(hist, ax):\n",
    "    parallel_coordinates_for_multinomial_distribution(\n",
    "    hist, \n",
    "    group_column_name='time', \n",
    "    class_names=list(colormap.keys()),\n",
    "    #sub_group_column_name='day',\n",
    "    #row2linestyle = r2ls,\n",
    "    kw_lines = {\n",
    "            'color': 'gray', \n",
    "            'alpha': 0.2, \n",
    "            'lw': 1, \n",
    "            'zorder': 0},\n",
    "    class_colors=list(colormap.values()),\n",
    "    ax = ax)\n",
    "\n",
    "histograms_ = histograms[(histograms['time'] >= '00:00:00') & (histograms['time'] < '04:00:00')]\n",
    "plot_violins(histograms_, axs[0])\n",
    "histograms_ = histograms[(histograms['time'] >= '04:00:00') & (histograms['time'] < '08:00:00')]\n",
    "plot_violins(histograms_, axs[1])\n",
    "histograms_ = histograms[(histograms['time'] >= '08:00:00') & (histograms['time'] < '12:00:00')]\n",
    "plot_violins(histograms_, axs[2])\n",
    "histograms_ = histograms[(histograms['time'] >= '12:00:00') & (histograms['time'] < '16:00:00')]\n",
    "plot_violins(histograms_, axs[3])\n",
    "histograms_ = histograms[(histograms['time'] >= '16:00:00') & (histograms['time'] < '20:00:00')]\n",
    "plot_violins(histograms_, axs[4])\n",
    "histograms_ = histograms[(histograms['time'] >= '20:00:00') & (histograms['time'] < '24:00:00')]\n",
    "plot_violins(histograms_, axs[5])\n",
    "\n",
    "\n"
   ]
  },
  {
   "cell_type": "code",
   "execution_count": null,
   "id": "d0645311",
   "metadata": {},
   "outputs": [],
   "source": [
    "hist_ = histograms.drop(columns=['time'])\n",
    "kmeans = KMeans(n_clusters=6, random_state=0).fit(hist_)\n",
    "histograms['cluster'] = kmeans.labels_"
   ]
  },
  {
   "cell_type": "code",
   "execution_count": null,
   "id": "8f134849",
   "metadata": {},
   "outputs": [],
   "source": [
    "fig, ax = plt.subplots(figsize=(15,5))\n",
    "parallel_coordinates_for_multinomial_distribution(\n",
    "histograms, \n",
    "group_column_name='cluster', \n",
    "class_names=list(colormap.keys()),\n",
    "#sub_group_column_name='day',\n",
    "#row2linestyle = r2ls,\n",
    "kw_lines = {\n",
    "        'color': 'gray', \n",
    "        'alpha': 0.2, \n",
    "        'lw': 1, \n",
    "        'zorder': 0},\n",
    "class_colors=list(colormap.values()),\n",
    "ax = ax)"
   ]
  },
  {
   "cell_type": "code",
   "execution_count": null,
   "id": "0d778f29",
   "metadata": {},
   "outputs": [],
   "source": [
    "pd.value_counts(histograms['cluster'])"
   ]
  },
  {
   "cell_type": "code",
   "execution_count": null,
   "id": "082ad03d",
   "metadata": {},
   "outputs": [],
   "source": []
  },
  {
   "cell_type": "code",
   "execution_count": null,
   "id": "99af5643",
   "metadata": {},
   "outputs": [],
   "source": []
  },
  {
   "cell_type": "code",
   "execution_count": null,
   "id": "653eaabb",
   "metadata": {},
   "outputs": [],
   "source": [
    "sensors = pd.read_csv('ExtraSensory.per_uuid_features_labels/2C32C23E-E30C-498A-8DD2-0EFB9150A02E.features_labels.csv.gz')\n",
    "sensors"
   ]
  },
  {
   "cell_type": "code",
   "execution_count": null,
   "id": "407688ba",
   "metadata": {},
   "outputs": [],
   "source": [
    "merged = d.merge(sensors, how='left', on='timestamp')"
   ]
  },
  {
   "cell_type": "code",
   "execution_count": null,
   "id": "fcb07529",
   "metadata": {},
   "outputs": [],
   "source": [
    "merged"
   ]
  },
  {
   "cell_type": "code",
   "execution_count": null,
   "id": "9921ea2b",
   "metadata": {},
   "outputs": [],
   "source": [
    "fig, axs = plt.subplots(nrows=3, ncols=2, figsize=(7,6), sharex=True)\n",
    "axs = np.concatenate(axs)\n",
    "for i in range(len(axs)):\n",
    "    axs[i].plot(merged[merged.columns[7+i*4]][10:40])\n",
    "    print(merged.columns[7+i*4])\n",
    "    #axs[i].set_xticklabels([])\n",
    "plt.savefig('plots/neidi_data_plot.pdf')"
   ]
  },
  {
   "cell_type": "code",
   "execution_count": null,
   "id": "5d3c541e",
   "metadata": {},
   "outputs": [],
   "source": []
  },
  {
   "cell_type": "code",
   "execution_count": null,
   "id": "621bb9c8",
   "metadata": {},
   "outputs": [],
   "source": []
  }
 ],
 "metadata": {
  "kernelspec": {
   "display_name": "Python 3 (ipykernel)",
   "language": "python",
   "name": "python3"
  },
  "language_info": {
   "codemirror_mode": {
    "name": "ipython",
    "version": 3
   },
   "file_extension": ".py",
   "mimetype": "text/x-python",
   "name": "python",
   "nbconvert_exporter": "python",
   "pygments_lexer": "ipython3",
   "version": "3.9.13"
  }
 },
 "nbformat": 4,
 "nbformat_minor": 5
}
